{
 "cells": [
  {
   "cell_type": "markdown",
   "metadata": {
    "collapsed": true
   },
   "source": [
    "# Milestone Project 2 - Solution"
   ]
  },
  {
   "cell_type": "code",
   "execution_count": 1,
   "metadata": {},
   "outputs": [],
   "source": [
    "import random\n",
    "\n",
    "playing = False\n",
    "\n",
    "chip_pool = 100 \n",
    "\n",
    "bet = 1\n",
    "\n",
    "restart_phrase = \"Press 'd' to deal the cards again, or press 'q' to quit\""
   ]
  },
  {
   "cell_type": "code",
   "execution_count": 2,
   "metadata": {},
   "outputs": [],
   "source": [
    "suits = ('H','D','C','S')\n",
    "\n",
    "ranking = ('A', '2', '3', '4', '5', '6', '7', '8', '9', '10', 'J', 'Q', 'K')\n",
    "\n",
    "card_val = {'A':1, '2':2, '3':3, '4':4, '5':5, '6':6, '7':7, '8':8, '9':9, '10':10, 'J':10, 'Q':10, 'K':10}"
   ]
  },
  {
   "cell_type": "code",
   "execution_count": 3,
   "metadata": {},
   "outputs": [],
   "source": [
    "class Card:\n",
    "    \n",
    "    def __init__(self,suit,rank):\n",
    "        self.suit = suit\n",
    "        self.rank = rank\n",
    "        \n",
    "    def __str__(self):\n",
    "        return self.suit + self.rank\n",
    "    \n",
    "    def grab_suit(self):\n",
    "        return self.suit\n",
    "    \n",
    "    def grab_rank(self):\n",
    "        return self.rank\n",
    "    \n",
    "    def draw(self):\n",
    "        print (self.suit + self.rank)"
   ]
  },
  {
   "cell_type": "code",
   "execution_count": 4,
   "metadata": {},
   "outputs": [],
   "source": [
    "class Hand:\n",
    "    \n",
    "    def __init__(self):\n",
    "        self.cards = []\n",
    "        self.value = 0\n",
    "        self.ace = False\n",
    "        \n",
    "    def __str__(self):\n",
    "        hand_comp = \"\"\n",
    "        \n",
    "        for card in self.cards:\n",
    "            card_name = card.__str__()\n",
    "            hand_comp += \" \" + card_name\n",
    "            \n",
    "        return 'The hand has %s' %hand_comp\n",
    "        \n",
    "    def card_add(self,card):\n",
    "        self.cards.append(card)\n",
    "        \n",
    "        if card.rank == 'A':\n",
    "            self.ace = True\n",
    "        self.value += card_val[card.rank]\n",
    "        \n",
    "    def calc_val(self):\n",
    "        if (self.ace == True and self.value < 12):\n",
    "            return self.value + 10\n",
    "        else:\n",
    "            return self.value\n",
    "        \n",
    "    def draw(self,hidden):\n",
    "        if hidden == True and playing == True:\n",
    "            starting_card = 1\n",
    "        else:\n",
    "            starting_card = 0\n",
    "        for x in range(starting_card,len(self.cards)):\n",
    "            self.cards[x].draw()\n",
    "            "
   ]
  },
  {
   "cell_type": "code",
   "execution_count": 5,
   "metadata": {},
   "outputs": [],
   "source": [
    "class Deck:\n",
    "    def __init__(self):\n",
    "        self.deck = []\n",
    "        for suit in suits:\n",
    "            for rank in ranking:\n",
    "                self.deck.append(Card(suit,rank))\n",
    "                \n",
    "    def shuffle(self):\n",
    "        random.shuffle(self.deck)\n",
    "        \n",
    "    def deal(self):\n",
    "        single_card = self.deck.pop()\n",
    "        return single_card\n",
    "    \n",
    "    def __str__(self):\n",
    "        deck_comp = \"\"\n",
    "        for card in self.cards:\n",
    "            deck_comp += \" \" + deck_comp.__str__()\n",
    "\n",
    "        return \"The deck has\" + deck_comp"
   ]
  },
  {
   "cell_type": "code",
   "execution_count": 6,
   "metadata": {},
   "outputs": [],
   "source": [
    "def make_bet():\n",
    "    global bet\n",
    "    bet = 0\n",
    "    \n",
    "    print(' What amount of chips would you like to bet? (Enter whole integer please) ')\n",
    "    while bet == 0:\n",
    "        bet_comp = input()\n",
    "        bet_comp = int(bet_comp)\n",
    "        if bet_comp >= 1 and bet_comp <= chip_pool:\n",
    "            bet = bet_comp\n",
    "        else:\n",
    "            print(\"Invalid bet, you only have \" + str(chip_pool) + \" remaining\")"
   ]
  },
  {
   "cell_type": "code",
   "execution_count": 7,
   "metadata": {},
   "outputs": [],
   "source": [
    "def deal_cards():\n",
    "    global result,playing,deck,player_hand,dealer_hand,chip_pool,bet\n",
    "    deck = Deck()\n",
    "    deck.shuffle()\n",
    "    make_bet()\n",
    "    player_hand = Hand()\n",
    "    dealer_hand = Hand()\n",
    "    player_hand.card_add(deck.deal())\n",
    "    player_hand.card_add(deck.deal())\n",
    "    \n",
    "    dealer_hand.card_add(deck.deal())\n",
    "    dealer_hand.card_add(deck.deal())\n",
    "    \n",
    "    result = \"Hit or Stand? Press either h or s: \"\n",
    "    \n",
    "    if playing == True:\n",
    "        print('Fold, Sorry')\n",
    "        chip_pool -= bet\n",
    "    \n",
    "    playing = True \n",
    "    game_step()"
   ]
  },
  {
   "cell_type": "code",
   "execution_count": 8,
   "metadata": {},
   "outputs": [],
   "source": [
    "def hit():\n",
    "    global playing,chip_pool,deck,player_hand,dealer_hand,result,bet\n",
    "    if playing:\n",
    "        if player_hand.calc_val() <= 21:\n",
    "            player_hand.card_add(deck.deal())\n",
    "        \n",
    "        print(\"Player hand is %s\" %player_hand)\n",
    "        \n",
    "        if player_hand.calc_val() > 21:\n",
    "            result = 'Busted! '+ restart_phrase\n",
    "            \n",
    "            chip_pool -= bet\n",
    "            playing = False\n",
    "    \n",
    "    else:\n",
    "        result = \"Sorry, can't hit\" + restart_phrase\n",
    "    \n",
    "    game_step()"
   ]
  },
  {
   "cell_type": "code",
   "execution_count": 9,
   "metadata": {},
   "outputs": [],
   "source": [
    "def stand():\n",
    "    global playing,chip_pool,deck,player_hand,dealer_hand,result,bet\n",
    "    if playing == False:\n",
    "        if player_hand.calc_val() > 0:\n",
    "            result = \"Sorry, you can't stand!\"\n",
    "            \n",
    "    else:    \n",
    "        while dealer_hand.calc_val() < 17:\n",
    "            dealer_hand.card_add(deck.deal())\n",
    "            \n",
    "        if dealer_hand.calc_val() > 21:\n",
    "            result = 'Dealer busts! You win!' + restart_phrase\n",
    "            chip_pool += bet\n",
    "            playing = False\n",
    "            \n",
    "        elif dealer_hand.calc_val() < player_hand.calc_val():\n",
    "            result = 'You beat the dealer, you win!' + restart_phrase\n",
    "            chip_pool += bet\n",
    "            playing = False\n",
    "        \n",
    "        elif dealer_hand.calc_val() == player_hand.calc_val():\n",
    "            result = 'Tied up, push!' + restart_phrase\n",
    "            playing = False\n",
    "        \n",
    "        else:\n",
    "            result = 'Dealer Wins!' + restart_phrase\n",
    "            chip_pool -= bet\n",
    "            playing = False\n",
    "    game_step()"
   ]
  },
  {
   "cell_type": "code",
   "execution_count": 10,
   "metadata": {},
   "outputs": [],
   "source": [
    "def game_step():\n",
    "    print(\"\")\n",
    "    print('Player Hand is: '),\n",
    "    player_hand.draw(hidden =False)\n",
    "    \n",
    "    print('Player hand total is: '+str(player_hand.calc_val()))\n",
    "    \n",
    "    print('Dealer Hand is: '),\n",
    "    dealer_hand.draw(hidden=True)\n",
    "    \n",
    "    if playing == False:\n",
    "        print(\" --- for a total of \" + str(dealer_hand.calc_val()))\n",
    "        print(\"Chip Total: \" + str(chip_pool))\n",
    "    else: \n",
    "        print(\" with another card hidden upside down\")\n",
    "    \n",
    "    print(result)\n",
    "    \n",
    "    player_input()\n",
    "    "
   ]
  },
  {
   "cell_type": "code",
   "execution_count": 11,
   "metadata": {},
   "outputs": [],
   "source": [
    "def game_exit():\n",
    "    print('Thanks for playing!')\n",
    "    exit()"
   ]
  },
  {
   "cell_type": "code",
   "execution_count": 12,
   "metadata": {},
   "outputs": [],
   "source": [
    "def player_input():\n",
    "    plin = input().lower()\n",
    "    \n",
    "    if plin == 'h':\n",
    "        hit()\n",
    "    elif plin == 's':\n",
    "        stand()\n",
    "    elif plin == 'd':\n",
    "        deal_cards()\n",
    "    elif plin == 'q':\n",
    "        game_exit()\n",
    "    else:\n",
    "        print(\"Invalid Input...Enter h, s, d, or q: \")\n",
    "        player_input()"
   ]
  },
  {
   "cell_type": "code",
   "execution_count": 13,
   "metadata": {},
   "outputs": [],
   "source": [
    "def intro():\n",
    "    statement = '''Welcome to BlackJack! Get as close to 21 as you can without going over!\n",
    "    Dealer hits until she reaches 17. Aces count as 1 or 11.\n",
    "    Card output goes a letter followed by a number of face notation'''\n",
    "    print(statement)"
   ]
  },
  {
   "cell_type": "code",
   "execution_count": 14,
   "metadata": {},
   "outputs": [
    {
     "name": "stdout",
     "output_type": "stream",
     "text": [
      "Welcome to BlackJack! Get as close to 21 as you can without going over!\n",
      "    Dealer hits until she reaches 17. Aces count as 1 or 11.\n",
      "    Card output goes a letter followed by a number of face notation\n",
      " What amount of chips would you like to bet? (Enter whole integer please) \n",
      "8\n",
      "\n",
      "Player Hand is: \n",
      "DA\n",
      "S5\n",
      "Player hand total is: 16\n",
      "Dealer Hand is: \n",
      "H9\n",
      " with another card hidden upside down\n",
      "Hit or Stand? Press either h or s: \n",
      "s\n",
      "\n",
      "Player Hand is: \n",
      "DA\n",
      "S5\n",
      "Player hand total is: 16\n",
      "Dealer Hand is: \n",
      "C6\n",
      "H9\n",
      "D3\n",
      " --- for a total of 18\n",
      "Chip Total: 92\n",
      "Dealer Wins!Press 'd' to deal the cards again, or press 'q' to quit\n",
      "q\n",
      "Thanks for playing!\n"
     ]
    }
   ],
   "source": [
    "deck = Deck()\n",
    "deck.shuffle()\n",
    "player_hand = Hand()\n",
    "dealer_hand = Hand()\n",
    "intro()\n",
    "deal_cards()"
   ]
  },
  {
   "cell_type": "code",
   "execution_count": null,
   "metadata": {},
   "outputs": [],
   "source": []
  },
  {
   "cell_type": "code",
   "execution_count": null,
   "metadata": {},
   "outputs": [],
   "source": []
  }
 ],
 "metadata": {
  "kernelspec": {
   "display_name": "myenv",
   "language": "python",
   "name": "myenv"
  },
  "language_info": {
   "codemirror_mode": {
    "name": "ipython",
    "version": 3
   },
   "file_extension": ".py",
   "mimetype": "text/x-python",
   "name": "python",
   "nbconvert_exporter": "python",
   "pygments_lexer": "ipython3",
   "version": "3.9.1"
  }
 },
 "nbformat": 4,
 "nbformat_minor": 1
}
