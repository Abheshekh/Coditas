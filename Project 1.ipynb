{
 "cells": [
  {
   "cell_type": "markdown",
   "metadata": {},
   "source": [
    "# Tic Tac Toe \n"
   ]
  },
  {
   "cell_type": "code",
   "execution_count": 1,
   "metadata": {},
   "outputs": [],
   "source": [
    "from IPython.display import clear_output\n",
    "\n",
    "board = [' '] * 10\n",
    "game_state = False\n",
    "announce = ''"
   ]
  },
  {
   "cell_type": "code",
   "execution_count": 2,
   "metadata": {},
   "outputs": [],
   "source": [
    "def reset_board():\n",
    "    global board,game_state\n",
    "    board = [' '] * 10\n",
    "    game_state = False"
   ]
  },
  {
   "cell_type": "code",
   "execution_count": 3,
   "metadata": {},
   "outputs": [],
   "source": [
    "def display_board():\n",
    "    clear_output()\n",
    "    print(\"  \"+board[7]+\" |\"+board[8]+\" | \"+board[9]+\" \")\n",
    "    print(\"------------\")\n",
    "    print(\"  \"+board[4]+\" |\"+board[5]+\" | \"+board[6]+\" \")\n",
    "    print(\"------------\")\n",
    "    print(\"  \"+board[1]+\" |\"+board[2]+\" | \"+board[3]+\" \")\n"
   ]
  },
  {
   "cell_type": "code",
   "execution_count": 4,
   "metadata": {},
   "outputs": [],
   "source": [
    "def win_check(board, player):\n",
    "    if (board[7]  ==  board[8] ==  board[9] == player) or \\\n",
    "        (board[4] ==  board[5] ==  board[6] == player) or \\\n",
    "        (board[1] ==  board[2] ==  board[3] == player) or \\\n",
    "        (board[7] ==  board[4] ==  board[1] == player) or \\\n",
    "        (board[8] ==  board[5] ==  board[2] == player) or \\\n",
    "        (board[9] ==  board[6] ==  board[3] == player) or \\\n",
    "        (board[1] ==  board[5] ==  board[9] == player) or \\\n",
    "        (board[3] ==  board[5] ==  board[7] == player):\n",
    "        return True\n",
    "    else:\n",
    "        return False\n"
   ]
  },
  {
   "cell_type": "code",
   "execution_count": 5,
   "metadata": {},
   "outputs": [],
   "source": [
    "def full_board_check(board):\n",
    "    for i in board:\n",
    "        if \" \" in i:\n",
    "            return False\n",
    "    return True"
   ]
  },
  {
   "cell_type": "code",
   "execution_count": 6,
   "metadata": {},
   "outputs": [],
   "source": [
    "def ask_player1(mark):\n",
    "    global board\n",
    "    req = 'Choose where to place your: ' + mark\n",
    "    while True:\n",
    "        try:\n",
    "            print(req)\n",
    "            choice = input()\n",
    "            choice = int(choice)\n",
    "            print(\"choice\",choice)\n",
    "        except ValueError:\n",
    "            print(\"Sorry, please input a number between 1-9.\")\n",
    "            continue\n",
    "\n",
    "        if(choice not in range(1,10)):\n",
    "            print(\"Sorry, please input a number between 1-9.\")\n",
    "            continue \n",
    "        \n",
    "        if(board[choice] == \" \"):\n",
    "            board[choice] = mark\n",
    "            break\n",
    "        else:\n",
    "            print(\"That space isn't empty!\")\n",
    "            continue"
   ]
  },
  {
   "cell_type": "code",
   "execution_count": 7,
   "metadata": {},
   "outputs": [],
   "source": [
    "def player_choice(mark):\n",
    "    global board,game_state,announce\n",
    "    announce = ''\n",
    "    mark = str(mark)\n",
    "    ask_player1(mark)\n",
    "    \n",
    "    if(win_check(board,mark)):\n",
    "        clear_output()\n",
    "        display_board()\n",
    "        announce = mark +\" wins! Congratulations\"\n",
    "        game_state = True\n",
    "    \n",
    "    clear_output()\n",
    "    display_board()\n",
    "    \n",
    "    if(full_board_check(board)):\n",
    "        announce = \"Tie!\"\n",
    "        game_state = True\n",
    "    \n",
    "    return game_state,announce\n"
   ]
  },
  {
   "cell_type": "code",
   "execution_count": 8,
   "metadata": {
    "scrolled": true
   },
   "outputs": [],
   "source": [
    "def play_game():\n",
    "    reset_board()\n",
    "    global announce\n",
    "    \n",
    "    X='X'\n",
    "    O='O'\n",
    "    while True:\n",
    "        clear_output()\n",
    "        display_board()\n",
    "        \n",
    "        game_state,announce = player_choice(X)\n",
    "        print(announce)\n",
    "        if(game_state):\n",
    "            break\n",
    "            \n",
    "        game_state,announce = player_choice(O)\n",
    "        print(announce)\n",
    "        if(game_state):\n",
    "            break\n",
    "    \n",
    "    rematch = input('Would you like to play again? y/n')\n",
    "    if(rematch == 'y'):\n",
    "        play_game()\n",
    "    else:\n",
    "        print(\"Thanks for playing!\")\n",
    "    "
   ]
  },
  {
   "cell_type": "markdown",
   "metadata": {},
   "source": [
    "Let's play!"
   ]
  },
  {
   "cell_type": "code",
   "execution_count": null,
   "metadata": {},
   "outputs": [
    {
     "name": "stdout",
     "output_type": "stream",
     "text": [
      "    |  |   \n",
      "------------\n",
      "    |  |   \n",
      "------------\n",
      "  X |O |   \n",
      "Choose where to place your: X\n"
     ]
    }
   ],
   "source": [
    "play_game()"
   ]
  }
 ],
 "metadata": {
  "kernelspec": {
   "display_name": "myenv",
   "language": "python",
   "name": "myenv"
  },
  "language_info": {
   "codemirror_mode": {
    "name": "ipython",
    "version": 3
   },
   "file_extension": ".py",
   "mimetype": "text/x-python",
   "name": "python",
   "nbconvert_exporter": "python",
   "pygments_lexer": "ipython3",
   "version": "3.9.1"
  }
 },
 "nbformat": 4,
 "nbformat_minor": 1
}
